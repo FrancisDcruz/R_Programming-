{
 "cells": [
  {
   "cell_type": "code",
   "execution_count": 1,
   "metadata": {},
   "outputs": [],
   "source": [
    "library(readr)"
   ]
  },
  {
   "cell_type": "code",
   "execution_count": 3,
   "metadata": {},
   "outputs": [],
   "source": [
    "IBM=read_csv(file='G:/NJIT/DAR/Homework questions/Homework 2/IBM.csv',col_types = cols())\n",
    "MSFT=read_csv(file='G:/NJIT/DAR/Homework questions/Homework 2/MSFT.csv',col_types = cols())\n",
    "GOOG=read_csv(file='G:/NJIT/DAR/Homework questions/Homework 2/GOOG.csv',col_types = cols())\n",
    "AAPL=read_csv(file='G:/NJIT/DAR/Homework questions/Homework 2/AAPL.csv',col_types = cols())\n",
    "AMZN=read_csv(file='G:/NJIT/DAR/Homework questions/Homework 2/AMZN.csv',col_types = cols())\n",
    "FB=read_csv(file='G:/NJIT/DAR/Homework questions/Homework 2/FB.csv',col_types = cols())"
   ]
  },
  {
   "cell_type": "code",
   "execution_count": 4,
   "metadata": {},
   "outputs": [],
   "source": [
    "ibm=IBM$\"Adj Close\"\n",
    "msft=MSFT$\"Adj Close\"\n",
    "goog=GOOG$\"Adj Close\"\n",
    "aapl=AAPL$\"Adj Close\"\n",
    "amzn=AMZN$\"Adj Close\"\n",
    "fb=FB$\"Adj Close\""
   ]
  },
  {
   "cell_type": "code",
   "execution_count": 8,
   "metadata": {},
   "outputs": [],
   "source": [
    "cor_r=function(x,y){\n",
    "    \n",
    "    difference=function(x,xm)\n",
    "    {\n",
    "        v=x-xm\n",
    "    }\n",
    "    multiplication=function(x,y)\n",
    "    {\n",
    "        m=x*y\n",
    "    }\n",
    "    square=function(diff)\n",
    "    {\n",
    "            x=(diff)^2\n",
    "    }\n",
    "    xm=mean(x) \n",
    "    ym=mean(y)\n",
    "\n",
    "    difx=lapply(x,difference,xm)\n",
    "    dify=lapply(y,difference,ym)\n",
    "    \n",
    "    multi=mapply(multiplication,difx,dify,SIMPLIFY=TRUE)\n",
    "    numerator=sum(multi)\n",
    "    length(multi)\n",
    "    \n",
    "    sqr_x=as.numeric(lapply(difx,square))\n",
    "    sqr_y=as.numeric(lapply(dify,square))\n",
    "    sumx=sum(sqr_x)\n",
    "    sumy=sum(sqr_y)\n",
    "    deno=sumx*sumy\n",
    "    denominator=sqrt(deno)\n",
    "    correlation=numerator/denominator\n",
    "    \n",
    "}"
   ]
  },
  {
   "cell_type": "code",
   "execution_count": 12,
   "metadata": {},
   "outputs": [],
   "source": [
    "stocks=c(\"IBM:MSFT\"=cor_r(ibm,msft),\n",
    "   \"IBM:GOOG\"=cor_r(ibm,goog),\n",
    "   \"IBM:AAPL\"=cor_r(ibm,aapl),\n",
    "   \"IBM:AMZN\"=cor_r(ibm,amzn),\n",
    "   \"IBM:FB\"=cor_r(ibm,fb),\n",
    "   \"MSFT:GOOG\"=cor_r(msft,goog),\n",
    "   \"MSFT:AAPL\"=cor_r(msft,aapl),\n",
    "   \"MSFT:AMZN\"=cor_r(msft,amzn),\n",
    "   \"MSFT:FB\"=cor_r(msft,fb),\n",
    "   \"GOOG:AAPL\"=cor_r(goog,aapl),\n",
    "   \"GOOG:AMZN\"=cor_r(goog,amzn),\n",
    "   \"GOOG:FB\"=cor_r(goog,fb),\n",
    "   \"AAPL:AMZN\"=cor_r(aapl,amzn),\n",
    "   \"AAPL:FB\"=cor_r(aapl,fb),\n",
    "   \"AMZN:FB\"=cor_r(amzn,fb))\n"
   ]
  },
  {
   "cell_type": "code",
   "execution_count": 13,
   "metadata": {},
   "outputs": [
    {
     "data": {
      "text/html": [
       "<style>\n",
       ".dl-inline {width: auto; margin:0; padding: 0}\n",
       ".dl-inline>dt, .dl-inline>dd {float: none; width: auto; display: inline-block}\n",
       ".dl-inline>dt::after {content: \":\\0020\"; padding-right: .5ex}\n",
       ".dl-inline>dt:not(:first-of-type) {padding-left: .5ex}\n",
       "</style><dl class=dl-inline><dt>IBM:MSFT</dt><dd>-0.418371413863498</dd><dt>MSFT:FB</dt><dd>-0.294114085601631</dd><dt>IBM:AMZN</dt><dd>-0.0941331506440247</dd><dt>AAPL:FB</dt><dd>-0.0265447647570536</dd><dt>IBM:AAPL</dt><dd>-0.0113201626657872</dd><dt>AMZN:FB</dt><dd>0.0533577968213238</dd><dt>IBM:GOOG</dt><dd>0.427429705270518</dd><dt>MSFT:GOOG</dt><dd>0.461302943926996</dd><dt>GOOG:FB</dt><dd>0.529201707074298</dd><dt>GOOG:AAPL</dt><dd>0.585818505913876</dd><dt>IBM:FB</dt><dd>0.630365965017643</dd><dt>GOOG:AMZN</dt><dd>0.660246582183559</dd><dt>MSFT:AAPL</dt><dd>0.786798251811007</dd><dt>AAPL:AMZN</dt><dd>0.840252870455017</dd><dt>MSFT:AMZN</dt><dd>0.872782282685389</dd></dl>\n"
      ],
      "text/latex": [
       "\\begin{description*}\n",
       "\\item[IBM:MSFT] -0.418371413863498\n",
       "\\item[MSFT:FB] -0.294114085601631\n",
       "\\item[IBM:AMZN] -0.0941331506440247\n",
       "\\item[AAPL:FB] -0.0265447647570536\n",
       "\\item[IBM:AAPL] -0.0113201626657872\n",
       "\\item[AMZN:FB] 0.0533577968213238\n",
       "\\item[IBM:GOOG] 0.427429705270518\n",
       "\\item[MSFT:GOOG] 0.461302943926996\n",
       "\\item[GOOG:FB] 0.529201707074298\n",
       "\\item[GOOG:AAPL] 0.585818505913876\n",
       "\\item[IBM:FB] 0.630365965017643\n",
       "\\item[GOOG:AMZN] 0.660246582183559\n",
       "\\item[MSFT:AAPL] 0.786798251811007\n",
       "\\item[AAPL:AMZN] 0.840252870455017\n",
       "\\item[MSFT:AMZN] 0.872782282685389\n",
       "\\end{description*}\n"
      ],
      "text/markdown": [
       "IBM:MSFT\n",
       ":   -0.418371413863498MSFT:FB\n",
       ":   -0.294114085601631IBM:AMZN\n",
       ":   -0.0941331506440247AAPL:FB\n",
       ":   -0.0265447647570536IBM:AAPL\n",
       ":   -0.0113201626657872AMZN:FB\n",
       ":   0.0533577968213238IBM:GOOG\n",
       ":   0.427429705270518MSFT:GOOG\n",
       ":   0.461302943926996GOOG:FB\n",
       ":   0.529201707074298GOOG:AAPL\n",
       ":   0.585818505913876IBM:FB\n",
       ":   0.630365965017643GOOG:AMZN\n",
       ":   0.660246582183559MSFT:AAPL\n",
       ":   0.786798251811007AAPL:AMZN\n",
       ":   0.840252870455017MSFT:AMZN\n",
       ":   0.872782282685389\n",
       "\n"
      ],
      "text/plain": [
       "   IBM:MSFT     MSFT:FB    IBM:AMZN     AAPL:FB    IBM:AAPL     AMZN:FB \n",
       "-0.41837141 -0.29411409 -0.09413315 -0.02654476 -0.01132016  0.05335780 \n",
       "   IBM:GOOG   MSFT:GOOG     GOOG:FB   GOOG:AAPL      IBM:FB   GOOG:AMZN \n",
       " 0.42742971  0.46130294  0.52920171  0.58581851  0.63036597  0.66024658 \n",
       "  MSFT:AAPL   AAPL:AMZN   MSFT:AMZN \n",
       " 0.78679825  0.84025287  0.87278228 "
      ]
     },
     "metadata": {},
     "output_type": "display_data"
    }
   ],
   "source": [
    "output=sort(stocks)\n",
    "output"
   ]
  },
  {
   "cell_type": "code",
   "execution_count": null,
   "metadata": {},
   "outputs": [],
   "source": []
  }
 ],
 "metadata": {
  "kernelspec": {
   "display_name": "R",
   "language": "R",
   "name": "ir"
  },
  "language_info": {
   "codemirror_mode": "r",
   "file_extension": ".r",
   "mimetype": "text/x-r-source",
   "name": "R",
   "pygments_lexer": "r",
   "version": "3.6.2"
  }
 },
 "nbformat": 4,
 "nbformat_minor": 2
}
