{
 "cells": [
  {
   "cell_type": "code",
   "execution_count": 8,
   "metadata": {},
   "outputs": [],
   "source": [
    "library(readr)\n",
    "library(dplyr)"
   ]
  },
  {
   "cell_type": "code",
   "execution_count": 9,
   "metadata": {},
   "outputs": [],
   "source": [
    "setwd(\"G:/NJIT/DAR/Homework questions/Homework 2\")"
   ]
  },
  {
   "cell_type": "code",
   "execution_count": 10,
   "metadata": {},
   "outputs": [],
   "source": [
    "IBM=read_csv(file='IBM.csv',col_types = cols())\n",
    "MSFT=read_csv(file='MSFT.csv',col_types = cols())\n",
    "GOOG=read_csv(file='GOOG.csv',col_types = cols())\n",
    "AAPL=read_csv(file='AAPL.csv',col_types = cols())\n",
    "AMZN=read_csv(file='AMZN.csv',col_types = cols())\n",
    "FB=read_csv(file='FB.csv',col_types = cols())"
   ]
  },
  {
   "cell_type": "code",
   "execution_count": 14,
   "metadata": {},
   "outputs": [],
   "source": [
    "divid=function(x)\n",
    "{   \n",
    "    data_set=x[,c(1,5,6)]\n",
    "    data_set$differnce1=data_set$Close -lag(data_set$Close,1)\n",
    "    data_set$differnce2=data_set$'Adj Close' -lag(data_set$'Adj Close',1)\n",
    "    data_set=mutate(data_set,differnce=data_set$differnce1-data_set$differnce2)\n",
    "    data_set=mutate(data_set,divid=data_set$differnce*data_set$Close)\n",
    "    data_set=subset(data_set,(divid!='0'))\n",
    "    data_set[,c(1,7)]\n",
    "}"
   ]
  },
  {
   "cell_type": "code",
   "execution_count": 25,
   "metadata": {},
   "outputs": [],
   "source": [
    "ibm=divid(IBM)\n",
    "msft=divid(MSFT)\n",
    "goog=divid(GOOG)\n",
    "aapl=divid(AAPL)\n",
    "amzn=divid(AMZN)\n",
    "fb=divid(FB)"
   ]
  },
  {
   "cell_type": "code",
   "execution_count": 29,
   "metadata": {},
   "outputs": [
    {
     "data": {
      "text/html": [
       "'IBM'"
      ],
      "text/latex": [
       "'IBM'"
      ],
      "text/markdown": [
       "'IBM'"
      ],
      "text/plain": [
       "[1] \"IBM\""
      ]
     },
     "metadata": {},
     "output_type": "display_data"
    },
    {
     "data": {
      "text/html": [
       "<table>\n",
       "<caption>A tibble: 6 × 2</caption>\n",
       "<thead>\n",
       "\t<tr><th scope=col>Date</th><th scope=col>divid</th></tr>\n",
       "\t<tr><th scope=col>&lt;date&gt;</th><th scope=col>&lt;dbl&gt;</th></tr>\n",
       "</thead>\n",
       "<tbody>\n",
       "\t<tr><td>2018-01-03</td><td>64.84349</td></tr>\n",
       "\t<tr><td>2018-01-04</td><td>50.08722</td></tr>\n",
       "\t<tr><td>2018-01-05</td><td>12.38954</td></tr>\n",
       "\t<tr><td>2018-01-08</td><td>15.45756</td></tr>\n",
       "\t<tr><td>2018-01-09</td><td> 5.69211</td></tr>\n",
       "\t<tr><td>2018-01-10</td><td> 5.54403</td></tr>\n",
       "</tbody>\n",
       "</table>\n"
      ],
      "text/latex": [
       "A tibble: 6 × 2\n",
       "\\begin{tabular}{ll}\n",
       " Date & divid\\\\\n",
       " <date> & <dbl>\\\\\n",
       "\\hline\n",
       "\t 2018-01-03 & 64.84349\\\\\n",
       "\t 2018-01-04 & 50.08722\\\\\n",
       "\t 2018-01-05 & 12.38954\\\\\n",
       "\t 2018-01-08 & 15.45756\\\\\n",
       "\t 2018-01-09 &  5.69211\\\\\n",
       "\t 2018-01-10 &  5.54403\\\\\n",
       "\\end{tabular}\n"
      ],
      "text/markdown": [
       "\n",
       "A tibble: 6 × 2\n",
       "\n",
       "| Date &lt;date&gt; | divid &lt;dbl&gt; |\n",
       "|---|---|\n",
       "| 2018-01-03 | 64.84349 |\n",
       "| 2018-01-04 | 50.08722 |\n",
       "| 2018-01-05 | 12.38954 |\n",
       "| 2018-01-08 | 15.45756 |\n",
       "| 2018-01-09 |  5.69211 |\n",
       "| 2018-01-10 |  5.54403 |\n",
       "\n"
      ],
      "text/plain": [
       "  Date       divid   \n",
       "1 2018-01-03 64.84349\n",
       "2 2018-01-04 50.08722\n",
       "3 2018-01-05 12.38954\n",
       "4 2018-01-08 15.45756\n",
       "5 2018-01-09  5.69211\n",
       "6 2018-01-10  5.54403"
      ]
     },
     "metadata": {},
     "output_type": "display_data"
    },
    {
     "data": {
      "text/html": [
       "'MSFT'"
      ],
      "text/latex": [
       "'MSFT'"
      ],
      "text/markdown": [
       "'MSFT'"
      ],
      "text/plain": [
       "[1] \"MSFT\""
      ]
     },
     "metadata": {},
     "output_type": "display_data"
    },
    {
     "data": {
      "text/html": [
       "<table>\n",
       "<caption>A tibble: 6 × 2</caption>\n",
       "<thead>\n",
       "\t<tr><th scope=col>Date</th><th scope=col>divid</th></tr>\n",
       "\t<tr><th scope=col>&lt;date&gt;</th><th scope=col>&lt;dbl&gt;</th></tr>\n",
       "</thead>\n",
       "<tbody>\n",
       "\t<tr><td>2018-01-03</td><td> 1.0823109</td></tr>\n",
       "\t<tr><td>2018-01-04</td><td> 2.0749602</td></tr>\n",
       "\t<tr><td>2018-01-05</td><td> 2.9853198</td></tr>\n",
       "\t<tr><td>2018-01-08</td><td> 0.2485965</td></tr>\n",
       "\t<tr><td>2018-01-09</td><td>-0.1655889</td></tr>\n",
       "\t<tr><td>2018-01-10</td><td>-1.1015263</td></tr>\n",
       "</tbody>\n",
       "</table>\n"
      ],
      "text/latex": [
       "A tibble: 6 × 2\n",
       "\\begin{tabular}{ll}\n",
       " Date & divid\\\\\n",
       " <date> & <dbl>\\\\\n",
       "\\hline\n",
       "\t 2018-01-03 &  1.0823109\\\\\n",
       "\t 2018-01-04 &  2.0749602\\\\\n",
       "\t 2018-01-05 &  2.9853198\\\\\n",
       "\t 2018-01-08 &  0.2485965\\\\\n",
       "\t 2018-01-09 & -0.1655889\\\\\n",
       "\t 2018-01-10 & -1.1015263\\\\\n",
       "\\end{tabular}\n"
      ],
      "text/markdown": [
       "\n",
       "A tibble: 6 × 2\n",
       "\n",
       "| Date &lt;date&gt; | divid &lt;dbl&gt; |\n",
       "|---|---|\n",
       "| 2018-01-03 |  1.0823109 |\n",
       "| 2018-01-04 |  2.0749602 |\n",
       "| 2018-01-05 |  2.9853198 |\n",
       "| 2018-01-08 |  0.2485965 |\n",
       "| 2018-01-09 | -0.1655889 |\n",
       "| 2018-01-10 | -1.1015263 |\n",
       "\n"
      ],
      "text/plain": [
       "  Date       divid     \n",
       "1 2018-01-03  1.0823109\n",
       "2 2018-01-04  2.0749602\n",
       "3 2018-01-05  2.9853198\n",
       "4 2018-01-08  0.2485965\n",
       "5 2018-01-09 -0.1655889\n",
       "6 2018-01-10 -1.1015263"
      ]
     },
     "metadata": {},
     "output_type": "display_data"
    },
    {
     "data": {
      "text/html": [
       "'GOOG'"
      ],
      "text/latex": [
       "'GOOG'"
      ],
      "text/markdown": [
       "'GOOG'"
      ],
      "text/plain": [
       "[1] \"GOOG\""
      ]
     },
     "metadata": {},
     "output_type": "display_data"
    },
    {
     "data": {
      "text/html": [
       "<table>\n",
       "<caption>A tibble: 0 × 2</caption>\n",
       "<thead>\n",
       "\t<tr><th scope=col>Date</th><th scope=col>divid</th></tr>\n",
       "\t<tr><th scope=col>&lt;date&gt;</th><th scope=col>&lt;dbl&gt;</th></tr>\n",
       "</thead>\n",
       "<tbody>\n",
       "</tbody>\n",
       "</table>\n"
      ],
      "text/latex": [
       "A tibble: 0 × 2\n",
       "\\begin{tabular}{ll}\n",
       " Date & divid\\\\\n",
       " <date> & <dbl>\\\\\n",
       "\\hline\n",
       "\\end{tabular}\n"
      ],
      "text/markdown": [
       "\n",
       "A tibble: 0 × 2\n",
       "\n",
       "| Date &lt;date&gt; | divid &lt;dbl&gt; |\n",
       "|---|---|\n",
       "\n"
      ],
      "text/plain": [
       "     Date divid"
      ]
     },
     "metadata": {},
     "output_type": "display_data"
    },
    {
     "data": {
      "text/html": [
       "'AAPL'"
      ],
      "text/latex": [
       "'AAPL'"
      ],
      "text/markdown": [
       "'AAPL'"
      ],
      "text/plain": [
       "[1] \"AAPL\""
      ]
     },
     "metadata": {},
     "output_type": "display_data"
    },
    {
     "data": {
      "text/html": [
       "<table>\n",
       "<caption>A tibble: 6 × 2</caption>\n",
       "<thead>\n",
       "\t<tr><th scope=col>Date</th><th scope=col>divid</th></tr>\n",
       "\t<tr><th scope=col>&lt;chr&gt;</th><th scope=col>&lt;dbl&gt;</th></tr>\n",
       "</thead>\n",
       "<tbody>\n",
       "\t<tr><td>1/3/18 </td><td>-0.1629296</td></tr>\n",
       "\t<tr><td>1/4/18 </td><td> 4.3852723</td></tr>\n",
       "\t<tr><td>1/5/18 </td><td>10.9215750</td></tr>\n",
       "\t<tr><td>1/8/18 </td><td>-3.5916101</td></tr>\n",
       "\t<tr><td>1/9/18 </td><td>-0.1115712</td></tr>\n",
       "\t<tr><td>1/10/18</td><td>-0.2208254</td></tr>\n",
       "</tbody>\n",
       "</table>\n"
      ],
      "text/latex": [
       "A tibble: 6 × 2\n",
       "\\begin{tabular}{ll}\n",
       " Date & divid\\\\\n",
       " <chr> & <dbl>\\\\\n",
       "\\hline\n",
       "\t 1/3/18  & -0.1629296\\\\\n",
       "\t 1/4/18  &  4.3852723\\\\\n",
       "\t 1/5/18  & 10.9215750\\\\\n",
       "\t 1/8/18  & -3.5916101\\\\\n",
       "\t 1/9/18  & -0.1115712\\\\\n",
       "\t 1/10/18 & -0.2208254\\\\\n",
       "\\end{tabular}\n"
      ],
      "text/markdown": [
       "\n",
       "A tibble: 6 × 2\n",
       "\n",
       "| Date &lt;chr&gt; | divid &lt;dbl&gt; |\n",
       "|---|---|\n",
       "| 1/3/18  | -0.1629296 |\n",
       "| 1/4/18  |  4.3852723 |\n",
       "| 1/5/18  | 10.9215750 |\n",
       "| 1/8/18  | -3.5916101 |\n",
       "| 1/9/18  | -0.1115712 |\n",
       "| 1/10/18 | -0.2208254 |\n",
       "\n"
      ],
      "text/plain": [
       "  Date    divid     \n",
       "1 1/3/18  -0.1629296\n",
       "2 1/4/18   4.3852723\n",
       "3 1/5/18  10.9215750\n",
       "4 1/8/18  -3.5916101\n",
       "5 1/9/18  -0.1115712\n",
       "6 1/10/18 -0.2208254"
      ]
     },
     "metadata": {},
     "output_type": "display_data"
    },
    {
     "data": {
      "text/html": [
       "'AMZN'"
      ],
      "text/latex": [
       "'AMZN'"
      ],
      "text/markdown": [
       "'AMZN'"
      ],
      "text/plain": [
       "[1] \"AMZN\""
      ]
     },
     "metadata": {},
     "output_type": "display_data"
    },
    {
     "data": {
      "text/html": [
       "<table>\n",
       "<caption>A tibble: 0 × 2</caption>\n",
       "<thead>\n",
       "\t<tr><th scope=col>Date</th><th scope=col>divid</th></tr>\n",
       "\t<tr><th scope=col>&lt;date&gt;</th><th scope=col>&lt;dbl&gt;</th></tr>\n",
       "</thead>\n",
       "<tbody>\n",
       "</tbody>\n",
       "</table>\n"
      ],
      "text/latex": [
       "A tibble: 0 × 2\n",
       "\\begin{tabular}{ll}\n",
       " Date & divid\\\\\n",
       " <date> & <dbl>\\\\\n",
       "\\hline\n",
       "\\end{tabular}\n"
      ],
      "text/markdown": [
       "\n",
       "A tibble: 0 × 2\n",
       "\n",
       "| Date &lt;date&gt; | divid &lt;dbl&gt; |\n",
       "|---|---|\n",
       "\n"
      ],
      "text/plain": [
       "     Date divid"
      ]
     },
     "metadata": {},
     "output_type": "display_data"
    },
    {
     "data": {
      "text/html": [
       "'FB'"
      ],
      "text/latex": [
       "'FB'"
      ],
      "text/markdown": [
       "'FB'"
      ],
      "text/plain": [
       "[1] \"FB\""
      ]
     },
     "metadata": {},
     "output_type": "display_data"
    },
    {
     "data": {
      "text/html": [
       "<table>\n",
       "<caption>A tibble: 0 × 2</caption>\n",
       "<thead>\n",
       "\t<tr><th scope=col>Date</th><th scope=col>divid</th></tr>\n",
       "\t<tr><th scope=col>&lt;date&gt;</th><th scope=col>&lt;dbl&gt;</th></tr>\n",
       "</thead>\n",
       "<tbody>\n",
       "</tbody>\n",
       "</table>\n"
      ],
      "text/latex": [
       "A tibble: 0 × 2\n",
       "\\begin{tabular}{ll}\n",
       " Date & divid\\\\\n",
       " <date> & <dbl>\\\\\n",
       "\\hline\n",
       "\\end{tabular}\n"
      ],
      "text/markdown": [
       "\n",
       "A tibble: 0 × 2\n",
       "\n",
       "| Date &lt;date&gt; | divid &lt;dbl&gt; |\n",
       "|---|---|\n",
       "\n"
      ],
      "text/plain": [
       "     Date divid"
      ]
     },
     "metadata": {},
     "output_type": "display_data"
    }
   ],
   "source": [
    "'IBM'\n",
    "head(ibm)\n",
    "'MSFT'\n",
    "head(msft)\n",
    "'GOOG'\n",
    "head(goog)\n",
    "'AAPL'\n",
    "head(aapl)\n",
    "'AMZN'\n",
    "head(amzn)\n",
    "'FB'\n",
    "head(fb)\n"
   ]
  },
  {
   "cell_type": "code",
   "execution_count": null,
   "metadata": {},
   "outputs": [],
   "source": []
  }
 ],
 "metadata": {
  "kernelspec": {
   "display_name": "R",
   "language": "R",
   "name": "ir"
  },
  "language_info": {
   "codemirror_mode": "r",
   "file_extension": ".r",
   "mimetype": "text/x-r-source",
   "name": "R",
   "pygments_lexer": "r",
   "version": "3.6.2"
  }
 },
 "nbformat": 4,
 "nbformat_minor": 4
}
