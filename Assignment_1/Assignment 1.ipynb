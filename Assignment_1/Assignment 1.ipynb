{
 "cells": [
  {
   "cell_type": "code",
   "execution_count": null,
   "metadata": {},
   "outputs": [],
   "source": [
    "1.20 The built-in data set islands contains the size of the world’s land masses that\n",
    "exceed 10,000 square miles. Use sort() with the argument decreasing=TRUE to\n",
    "find the seven largest land masses."
   ]
  },
  {
   "cell_type": "code",
   "execution_count": 1,
   "metadata": {},
   "outputs": [
    {
     "data": {
      "text/html": [
       "<style>\n",
       ".dl-inline {width: auto; margin:0; padding: 0}\n",
       ".dl-inline>dt, .dl-inline>dd {float: none; width: auto; display: inline-block}\n",
       ".dl-inline>dt::after {content: \":\\0020\"; padding-right: .5ex}\n",
       ".dl-inline>dt:not(:first-of-type) {padding-left: .5ex}\n",
       "</style><dl class=dl-inline><dt>Asia</dt><dd>16988</dd><dt>Africa</dt><dd>11506</dd><dt>North America</dt><dd>9390</dd><dt>South America</dt><dd>6795</dd><dt>Antarctica</dt><dd>5500</dd><dt>Europe</dt><dd>3745</dd><dt>Australia</dt><dd>2968</dd></dl>\n"
      ],
      "text/latex": [
       "\\begin{description*}\n",
       "\\item[Asia] 16988\n",
       "\\item[Africa] 11506\n",
       "\\item[North America] 9390\n",
       "\\item[South America] 6795\n",
       "\\item[Antarctica] 5500\n",
       "\\item[Europe] 3745\n",
       "\\item[Australia] 2968\n",
       "\\end{description*}\n"
      ],
      "text/markdown": [
       "Asia\n",
       ":   16988Africa\n",
       ":   11506North America\n",
       ":   9390South America\n",
       ":   6795Antarctica\n",
       ":   5500Europe\n",
       ":   3745Australia\n",
       ":   2968\n",
       "\n"
      ],
      "text/plain": [
       "         Asia        Africa North America South America    Antarctica \n",
       "        16988         11506          9390          6795          5500 \n",
       "       Europe     Australia \n",
       "         3745          2968 "
      ]
     },
     "metadata": {},
     "output_type": "display_data"
    }
   ],
   "source": [
    "data(\"islands\")\n",
    "sort(islands, decreasing = TRUE)[1:7]"
   ]
  },
  {
   "cell_type": "code",
   "execution_count": null,
   "metadata": {},
   "outputs": [],
   "source": [
    "#loading required libraries"
   ]
  },
  {
   "cell_type": "code",
   "execution_count": 3,
   "metadata": {},
   "outputs": [],
   "source": [
    "library(MASS)\n",
    "library(HistData)\n",
    "library(lattice)\n",
    "library(survival)\n",
    "library(Formula)\n",
    "library(ggplot2)\n",
    "library(Hmisc)\n",
    "library(UsingR)"
   ]
  },
  {
   "cell_type": "code",
   "execution_count": null,
   "metadata": {},
   "outputs": [],
   "source": [
    "1.21 Load the data set primes (UsingR). This is the set of prime numbers in\n",
    "[1,2003]. How many are there? How many in the range [1,100]? [100,1000]?"
   ]
  },
  {
   "cell_type": "code",
   "execution_count": 4,
   "metadata": {},
   "outputs": [
    {
     "data": {
      "text/html": [
       "304"
      ],
      "text/latex": [
       "304"
      ],
      "text/markdown": [
       "304"
      ],
      "text/plain": [
       "[1] 304"
      ]
     },
     "metadata": {},
     "output_type": "display_data"
    }
   ],
   "source": [
    "data(\"primes\")\n",
    "length(primes)"
   ]
  },
  {
   "cell_type": "code",
   "execution_count": 5,
   "metadata": {},
   "outputs": [
    {
     "data": {
      "text/html": [
       "25"
      ],
      "text/latex": [
       "25"
      ],
      "text/markdown": [
       "25"
      ],
      "text/plain": [
       "[1] 25"
      ]
     },
     "metadata": {},
     "output_type": "display_data"
    }
   ],
   "source": [
    "length(primes[primes <= 100])"
   ]
  },
  {
   "cell_type": "code",
   "execution_count": 6,
   "metadata": {},
   "outputs": [
    {
     "data": {
      "text/html": [
       "143"
      ],
      "text/latex": [
       "143"
      ],
      "text/markdown": [
       "143"
      ],
      "text/plain": [
       "[1] 143"
      ]
     },
     "metadata": {},
     "output_type": "display_data"
    }
   ],
   "source": [
    "length(primes[primes>=100 & primes <= 1000])"
   ]
  },
  {
   "cell_type": "code",
   "execution_count": null,
   "metadata": {},
   "outputs": [],
   "source": [
    "1.22 Load the data set primes (UsingR). We wish to find all the twin primes. These\n",
    "are numbers p and p+2, where both are prime.\n",
    "1. Explain what primes[−1] returns.\n",
    "2. If you set n=length (primes), explain what primes[−n] returns.\n",
    "3. Why might primes [−1]—primes [−n] give clues as to what the twin primes are?\n",
    "How many twin primes are there in the data set?"
   ]
  },
  {
   "cell_type": "code",
   "execution_count": null,
   "metadata": {},
   "outputs": [],
   "source": [
    "[-1] returns all the prime elements in the list except the first elements"
   ]
  },
  {
   "cell_type": "code",
   "execution_count": 7,
   "metadata": {},
   "outputs": [
    {
     "data": {
      "text/html": [
       "<style>\n",
       ".list-inline {list-style: none; margin:0; padding: 0}\n",
       ".list-inline>li {display: inline-block}\n",
       ".list-inline>li:not(:last-child)::after {content: \"\\00b7\"; padding: 0 .5ex}\n",
       "</style>\n",
       "<ol class=list-inline><li>3</li><li>5</li><li>7</li><li>11</li><li>13</li><li>17</li></ol>\n"
      ],
      "text/latex": [
       "\\begin{enumerate*}\n",
       "\\item 3\n",
       "\\item 5\n",
       "\\item 7\n",
       "\\item 11\n",
       "\\item 13\n",
       "\\item 17\n",
       "\\end{enumerate*}\n"
      ],
      "text/markdown": [
       "1. 3\n",
       "2. 5\n",
       "3. 7\n",
       "4. 11\n",
       "5. 13\n",
       "6. 17\n",
       "\n",
       "\n"
      ],
      "text/plain": [
       "[1]  3  5  7 11 13 17"
      ]
     },
     "metadata": {},
     "output_type": "display_data"
    }
   ],
   "source": [
    "head(primes[-1])\n"
   ]
  },
  {
   "cell_type": "code",
   "execution_count": null,
   "metadata": {},
   "outputs": [],
   "source": [
    "[-n] returns all the primes elements in the list except the last elements"
   ]
  },
  {
   "cell_type": "code",
   "execution_count": 8,
   "metadata": {},
   "outputs": [
    {
     "data": {
      "text/html": [
       "<style>\n",
       ".list-inline {list-style: none; margin:0; padding: 0}\n",
       ".list-inline>li {display: inline-block}\n",
       ".list-inline>li:not(:last-child)::after {content: \"\\00b7\"; padding: 0 .5ex}\n",
       "</style>\n",
       "<ol class=list-inline><li>1973</li><li>1979</li><li>1987</li><li>1993</li><li>1997</li><li>1999</li></ol>\n"
      ],
      "text/latex": [
       "\\begin{enumerate*}\n",
       "\\item 1973\n",
       "\\item 1979\n",
       "\\item 1987\n",
       "\\item 1993\n",
       "\\item 1997\n",
       "\\item 1999\n",
       "\\end{enumerate*}\n"
      ],
      "text/markdown": [
       "1. 1973\n",
       "2. 1979\n",
       "3. 1987\n",
       "4. 1993\n",
       "5. 1997\n",
       "6. 1999\n",
       "\n",
       "\n"
      ],
      "text/plain": [
       "[1] 1973 1979 1987 1993 1997 1999"
      ]
     },
     "metadata": {},
     "output_type": "display_data"
    }
   ],
   "source": [
    "n <- length(primes)\n",
    "tail(primes[-n])"
   ]
  },
  {
   "cell_type": "code",
   "execution_count": null,
   "metadata": {},
   "outputs": [],
   "source": [
    "primes[-1]-primes[-n] give us a vector that includes the difference between two neighbouring prime numbers, \n",
    "then we check the number of elements that are equal to 2 in this vector,\n",
    "this implies the twin prime numbers."
   ]
  },
  {
   "cell_type": "code",
   "execution_count": 9,
   "metadata": {},
   "outputs": [
    {
     "data": {
      "text/html": [
       "61"
      ],
      "text/latex": [
       "61"
      ],
      "text/markdown": [
       "61"
      ],
      "text/plain": [
       "[1] 61"
      ]
     },
     "metadata": {},
     "output_type": "display_data"
    }
   ],
   "source": [
    "sum(primes[-1]-primes[-n]==2)\n"
   ]
  },
  {
   "cell_type": "code",
   "execution_count": null,
   "metadata": {},
   "outputs": [],
   "source": [
    "1.23 For the data set treering, which contains tree-ring widths in dimension-less\n",
    "units, use an R function to answer the following:\n",
    "1. How many observations are there?\n",
    "2. Find the smallest observation.\n",
    "3. Find the largest observation.\n",
    "4. How many are bigger than 1.5?"
   ]
  },
  {
   "cell_type": "code",
   "execution_count": 10,
   "metadata": {},
   "outputs": [
    {
     "data": {
      "text/html": [
       "7980"
      ],
      "text/latex": [
       "7980"
      ],
      "text/markdown": [
       "7980"
      ],
      "text/plain": [
       "[1] 7980"
      ]
     },
     "metadata": {},
     "output_type": "display_data"
    }
   ],
   "source": [
    "data(\"treering\")\n",
    "length(treering)"
   ]
  },
  {
   "cell_type": "code",
   "execution_count": 11,
   "metadata": {},
   "outputs": [
    {
     "data": {
      "text/html": [
       "0"
      ],
      "text/latex": [
       "0"
      ],
      "text/markdown": [
       "0"
      ],
      "text/plain": [
       "[1] 0"
      ]
     },
     "metadata": {},
     "output_type": "display_data"
    }
   ],
   "source": [
    "min(treering)"
   ]
  },
  {
   "cell_type": "code",
   "execution_count": 12,
   "metadata": {},
   "outputs": [
    {
     "data": {
      "text/html": [
       "1.908"
      ],
      "text/latex": [
       "1.908"
      ],
      "text/markdown": [
       "1.908"
      ],
      "text/plain": [
       "[1] 1.908"
      ]
     },
     "metadata": {},
     "output_type": "display_data"
    }
   ],
   "source": [
    "max(treering)"
   ]
  },
  {
   "cell_type": "code",
   "execution_count": 13,
   "metadata": {},
   "outputs": [
    {
     "data": {
      "text/html": [
       "219"
      ],
      "text/latex": [
       "219"
      ],
      "text/markdown": [
       "219"
      ],
      "text/plain": [
       "[1] 219"
      ]
     },
     "metadata": {},
     "output_type": "display_data"
    }
   ],
   "source": [
    "sum(treering>1.5)"
   ]
  },
  {
   "cell_type": "code",
   "execution_count": null,
   "metadata": {},
   "outputs": [],
   "source": [
    "1.24 The data set mandms (UsingR) contains the targeted color distribution in a\n",
    "bag of M&Ms as percentages for varies types of packaging. Answer these\n",
    "questions.\n",
    "1. Which packaging is missing one of the six colors?\n",
    "2. Which types of packaging have an equal distribution of colors?\n",
    "3. Which packaging has a single color that is more likely than all the others? What\n",
    "color is this?"
   ]
  },
  {
   "cell_type": "code",
   "execution_count": 14,
   "metadata": {},
   "outputs": [
    {
     "data": {
      "text/html": [
       "'Peanut Butter'"
      ],
      "text/latex": [
       "'Peanut Butter'"
      ],
      "text/markdown": [
       "'Peanut Butter'"
      ],
      "text/plain": [
       "[1] \"Peanut Butter\""
      ]
     },
     "metadata": {},
     "output_type": "display_data"
    }
   ],
   "source": [
    "data(\"mandms\")\n",
    "names(which(rowSums(mandms==0)==1))"
   ]
  },
  {
   "cell_type": "code",
   "execution_count": 15,
   "metadata": {},
   "outputs": [
    {
     "data": {
      "text/html": [
       "<style>\n",
       ".list-inline {list-style: none; margin:0; padding: 0}\n",
       ".list-inline>li {display: inline-block}\n",
       ".list-inline>li:not(:last-child)::after {content: \"\\00b7\"; padding: 0 .5ex}\n",
       "</style>\n",
       "<ol class=list-inline><li>'Almond'</li><li>'kid minis'</li></ol>\n"
      ],
      "text/latex": [
       "\\begin{enumerate*}\n",
       "\\item 'Almond'\n",
       "\\item 'kid minis'\n",
       "\\end{enumerate*}\n"
      ],
      "text/markdown": [
       "1. 'Almond'\n",
       "2. 'kid minis'\n",
       "\n",
       "\n"
      ],
      "text/plain": [
       "[1] \"Almond\"    \"kid minis\""
      ]
     },
     "metadata": {},
     "output_type": "display_data"
    }
   ],
   "source": [
    "names(which(rowSums(mandms==rowMeans(mandms))==6))"
   ]
  },
  {
   "cell_type": "code",
   "execution_count": 16,
   "metadata": {},
   "outputs": [
    {
     "data": {
      "text/html": [
       "'milk chocolate'"
      ],
      "text/latex": [
       "'milk chocolate'"
      ],
      "text/markdown": [
       "'milk chocolate'"
      ],
      "text/plain": [
       "[1] \"milk chocolate\""
      ]
     },
     "metadata": {},
     "output_type": "display_data"
    }
   ],
   "source": [
    "names(which(rowSums(mandms==max(mandms))==1))"
   ]
  },
  {
   "cell_type": "code",
   "execution_count": 17,
   "metadata": {},
   "outputs": [
    {
     "data": {
      "text/html": [
       "'brown'"
      ],
      "text/latex": [
       "'brown'"
      ],
      "text/markdown": [
       "'brown'"
      ],
      "text/plain": [
       "[1] \"brown\""
      ]
     },
     "metadata": {},
     "output_type": "display_data"
    }
   ],
   "source": [
    "names(which(colSums(mandms==max(mandms))==1))"
   ]
  },
  {
   "cell_type": "code",
   "execution_count": null,
   "metadata": {},
   "outputs": [],
   "source": [
    "1.25 The t imes variable in the data set nym. 2002 (UsingR) contains the time to\n",
    "finish for several participants in the 2002 New York City Marathon. Answer these\n",
    "questions.\n",
    "1. How many times are stored in the data set?\n",
    "2. What was the fastest time in minutes? Convert this into hours and minutes using R.\n",
    "3. What was the slowest time in minutes? Convert this into hours and minutes using R."
   ]
  },
  {
   "cell_type": "code",
   "execution_count": 18,
   "metadata": {},
   "outputs": [
    {
     "data": {
      "text/html": [
       "1000"
      ],
      "text/latex": [
       "1000"
      ],
      "text/markdown": [
       "1000"
      ],
      "text/plain": [
       "[1] 1000"
      ]
     },
     "metadata": {},
     "output_type": "display_data"
    }
   ],
   "source": [
    "data(\"nym.2002\")\n",
    "length(nym.2002$time)"
   ]
  },
  {
   "cell_type": "code",
   "execution_count": 19,
   "metadata": {},
   "outputs": [],
   "source": [
    "fastest <- min(nym.2002$time)"
   ]
  },
  {
   "cell_type": "code",
   "execution_count": 20,
   "metadata": {},
   "outputs": [
    {
     "data": {
      "text/html": [
       "147.333333333333"
      ],
      "text/latex": [
       "147.333333333333"
      ],
      "text/markdown": [
       "147.333333333333"
      ],
      "text/plain": [
       "[1] 147.3333"
      ]
     },
     "metadata": {},
     "output_type": "display_data"
    }
   ],
   "source": [
    "fastest"
   ]
  },
  {
   "cell_type": "code",
   "execution_count": 21,
   "metadata": {},
   "outputs": [
    {
     "data": {
      "text/html": [
       "'2:27'"
      ],
      "text/latex": [
       "'2:27'"
      ],
      "text/markdown": [
       "'2:27'"
      ],
      "text/plain": [
       "[1] \"2:27\""
      ]
     },
     "metadata": {},
     "output_type": "display_data"
    }
   ],
   "source": [
    "paste(fastest %/% 60, round(fastest %% 60),sep=\":\")"
   ]
  },
  {
   "cell_type": "code",
   "execution_count": 22,
   "metadata": {},
   "outputs": [
    {
     "data": {
      "text/html": [
       "566.783333333333"
      ],
      "text/latex": [
       "566.783333333333"
      ],
      "text/markdown": [
       "566.783333333333"
      ],
      "text/plain": [
       "[1] 566.7833"
      ]
     },
     "metadata": {},
     "output_type": "display_data"
    },
    {
     "data": {
      "text/html": [
       "'9:27'"
      ],
      "text/latex": [
       "'9:27'"
      ],
      "text/markdown": [
       "'9:27'"
      ],
      "text/plain": [
       "[1] \"9:27\""
      ]
     },
     "metadata": {},
     "output_type": "display_data"
    }
   ],
   "source": [
    "slowest <- max(nym.2002$time)\n",
    "slowest\n",
    "paste(slowest %/% 60, round(slowest %% 60), sep=\":\")"
   ]
  },
  {
   "cell_type": "code",
   "execution_count": null,
   "metadata": {},
   "outputs": [],
   "source": [
    "1.26 For the data set rivers, which is the longest river? The shortest?"
   ]
  },
  {
   "cell_type": "code",
   "execution_count": 23,
   "metadata": {},
   "outputs": [
    {
     "data": {
      "text/html": [
       "3710"
      ],
      "text/latex": [
       "3710"
      ],
      "text/markdown": [
       "3710"
      ],
      "text/plain": [
       "[1] 3710"
      ]
     },
     "metadata": {},
     "output_type": "display_data"
    }
   ],
   "source": [
    "data(\"rivers\")\n",
    "max(rivers)"
   ]
  },
  {
   "cell_type": "code",
   "execution_count": 24,
   "metadata": {},
   "outputs": [
    {
     "data": {
      "text/html": [
       "135"
      ],
      "text/latex": [
       "135"
      ],
      "text/markdown": [
       "135"
      ],
      "text/plain": [
       "[1] 135"
      ]
     },
     "metadata": {},
     "output_type": "display_data"
    }
   ],
   "source": [
    "min(rivers)"
   ]
  },
  {
   "cell_type": "code",
   "execution_count": null,
   "metadata": {},
   "outputs": [],
   "source": [
    "1.27 The data set uspop contains decade-by-decade population figures for the\n",
    "United States from 1790 to 1970.\n",
    "1. Use names() and seq() to add the year names to the data vector.\n",
    "2. Use diff() to find the inter-decade differences. Which decade had the greatest increase?\n",
    "3. Explain why you could reasonably expect that the difference will always increase with each\n",
    "decade. Is this the case with the data?"
   ]
  },
  {
   "cell_type": "code",
   "execution_count": 25,
   "metadata": {},
   "outputs": [
    {
     "data": {
      "text/html": [
       "A Time Series:<br><style>\n",
       ".dl-inline {width: auto; margin:0; padding: 0}\n",
       ".dl-inline>dt, .dl-inline>dd {float: none; width: auto; display: inline-block}\n",
       ".dl-inline>dt::after {content: \":\\0020\"; padding-right: .5ex}\n",
       ".dl-inline>dt:not(:first-of-type) {padding-left: .5ex}\n",
       "</style><dl class=dl-inline><dt>1790</dt><dd>3.93</dd><dt>1800</dt><dd>5.31</dd><dt>1810</dt><dd>7.24</dd><dt>1820</dt><dd>9.64</dd><dt>1830</dt><dd>12.9</dd><dt>1840</dt><dd>17.1</dd><dt>1850</dt><dd>23.2</dd><dt>1860</dt><dd>31.4</dd><dt>1870</dt><dd>39.8</dd><dt>1880</dt><dd>50.2</dd><dt>1890</dt><dd>62.9</dd><dt>1900</dt><dd>76</dd><dt>1910</dt><dd>92</dd><dt>1920</dt><dd>105.7</dd><dt>1930</dt><dd>122.8</dd><dt>1940</dt><dd>131.7</dd><dt>1950</dt><dd>151.3</dd><dt>1960</dt><dd>179.3</dd><dt>1970</dt><dd>203.2</dd></dl>\n"
      ],
      "text/latex": [
       "A Time Series:\\\\\\begin{description*}\n",
       "\\item[1790] 3.93\n",
       "\\item[1800] 5.31\n",
       "\\item[1810] 7.24\n",
       "\\item[1820] 9.64\n",
       "\\item[1830] 12.9\n",
       "\\item[1840] 17.1\n",
       "\\item[1850] 23.2\n",
       "\\item[1860] 31.4\n",
       "\\item[1870] 39.8\n",
       "\\item[1880] 50.2\n",
       "\\item[1890] 62.9\n",
       "\\item[1900] 76\n",
       "\\item[1910] 92\n",
       "\\item[1920] 105.7\n",
       "\\item[1930] 122.8\n",
       "\\item[1940] 131.7\n",
       "\\item[1950] 151.3\n",
       "\\item[1960] 179.3\n",
       "\\item[1970] 203.2\n",
       "\\end{description*}\n"
      ],
      "text/markdown": [
       "A Time Series:  \n",
       "1790\n",
       ":   3.931800\n",
       ":   5.311810\n",
       ":   7.241820\n",
       ":   9.641830\n",
       ":   12.91840\n",
       ":   17.11850\n",
       ":   23.21860\n",
       ":   31.41870\n",
       ":   39.81880\n",
       ":   50.21890\n",
       ":   62.91900\n",
       ":   761910\n",
       ":   921920\n",
       ":   105.71930\n",
       ":   122.81940\n",
       ":   131.71950\n",
       ":   151.31960\n",
       ":   179.31970\n",
       ":   203.2\n",
       "\n"
      ],
      "text/plain": [
       "A Time Series:\n",
       "  1790   1800   1810   1820   1830   1840   1850   1860   1870   1880   1890 \n",
       "  3.93   5.31   7.24   9.64  12.90  17.10  23.20  31.40  39.80  50.20  62.90 \n",
       "  1900   1910   1920   1930   1940   1950   1960   1970 \n",
       " 76.00  92.00 105.70 122.80 131.70 151.30 179.30 203.20 "
      ]
     },
     "metadata": {},
     "output_type": "display_data"
    }
   ],
   "source": [
    "data(\"uspop\")\n",
    "names(uspop) <- seq(1790,1970,by=10)\n",
    "uspop"
   ]
  },
  {
   "cell_type": "code",
   "execution_count": 26,
   "metadata": {},
   "outputs": [
    {
     "data": {
      "text/html": [
       "<style>\n",
       ".dl-inline {width: auto; margin:0; padding: 0}\n",
       ".dl-inline>dt, .dl-inline>dd {float: none; width: auto; display: inline-block}\n",
       ".dl-inline>dt::after {content: \":\\0020\"; padding-right: .5ex}\n",
       ".dl-inline>dt:not(:first-of-type) {padding-left: .5ex}\n",
       "</style><dl class=dl-inline><dt>1950</dt><dd>151.3</dd><dt>1960</dt><dd>179.3</dd></dl>\n"
      ],
      "text/latex": [
       "\\begin{description*}\n",
       "\\item[1950] 151.3\n",
       "\\item[1960] 179.3\n",
       "\\end{description*}\n"
      ],
      "text/markdown": [
       "1950\n",
       ":   151.31960\n",
       ":   179.3\n",
       "\n"
      ],
      "text/plain": [
       " 1950  1960 \n",
       "151.3 179.3 "
      ]
     },
     "metadata": {},
     "output_type": "display_data"
    }
   ],
   "source": [
    "delta <- diff(uspop)\n",
    "uspop[c(which.max(delta),which.max(delta)+1)]"
   ]
  },
  {
   "cell_type": "code",
   "execution_count": 27,
   "metadata": {},
   "outputs": [
    {
     "data": {
      "text/html": [
       "28"
      ],
      "text/latex": [
       "28"
      ],
      "text/markdown": [
       "28"
      ],
      "text/plain": [
       "[1] 28"
      ]
     },
     "metadata": {},
     "output_type": "display_data"
    }
   ],
   "source": [
    "max(delta)"
   ]
  },
  {
   "cell_type": "code",
   "execution_count": null,
   "metadata": {},
   "outputs": [],
   "source": [
    "In the past 200 years the life quality of united states people is better and better, which leads to increase in population.\n",
    "The following results of the given data also indicates that the inter-decade difference always increases. \n",
    "(TRUE means increase, FALSE means decrease)."
   ]
  },
  {
   "cell_type": "code",
   "execution_count": 28,
   "metadata": {},
   "outputs": [
    {
     "data": {
      "text/html": [
       "A Time Series:<br><style>\n",
       ".list-inline {list-style: none; margin:0; padding: 0}\n",
       ".list-inline>li {display: inline-block}\n",
       ".list-inline>li:not(:last-child)::after {content: \"\\00b7\"; padding: 0 .5ex}\n",
       "</style>\n",
       "<ol class=list-inline><li>TRUE</li><li>TRUE</li><li>TRUE</li><li>TRUE</li><li>TRUE</li><li>TRUE</li><li>TRUE</li><li>TRUE</li><li>TRUE</li><li>TRUE</li><li>TRUE</li><li>TRUE</li><li>TRUE</li><li>TRUE</li><li>TRUE</li><li>TRUE</li><li>TRUE</li><li>TRUE</li></ol>\n"
      ],
      "text/latex": [
       "A Time Series:\\\\\\begin{enumerate*}\n",
       "\\item TRUE\n",
       "\\item TRUE\n",
       "\\item TRUE\n",
       "\\item TRUE\n",
       "\\item TRUE\n",
       "\\item TRUE\n",
       "\\item TRUE\n",
       "\\item TRUE\n",
       "\\item TRUE\n",
       "\\item TRUE\n",
       "\\item TRUE\n",
       "\\item TRUE\n",
       "\\item TRUE\n",
       "\\item TRUE\n",
       "\\item TRUE\n",
       "\\item TRUE\n",
       "\\item TRUE\n",
       "\\item TRUE\n",
       "\\end{enumerate*}\n"
      ],
      "text/markdown": [
       "A Time Series:  \n",
       "1. TRUE\n",
       "2. TRUE\n",
       "3. TRUE\n",
       "4. TRUE\n",
       "5. TRUE\n",
       "6. TRUE\n",
       "7. TRUE\n",
       "8. TRUE\n",
       "9. TRUE\n",
       "10. TRUE\n",
       "11. TRUE\n",
       "12. TRUE\n",
       "13. TRUE\n",
       "14. TRUE\n",
       "15. TRUE\n",
       "16. TRUE\n",
       "17. TRUE\n",
       "18. TRUE\n",
       "\n",
       "\n"
      ],
      "text/plain": [
       "A Time Series:\n",
       " [1] TRUE TRUE TRUE TRUE TRUE TRUE TRUE TRUE TRUE TRUE TRUE TRUE TRUE TRUE TRUE\n",
       "[16] TRUE TRUE TRUE"
      ]
     },
     "metadata": {},
     "output_type": "display_data"
    }
   ],
   "source": [
    "delta > 0"
   ]
  }
 ],
 "metadata": {
  "kernelspec": {
   "display_name": "R",
   "language": "R",
   "name": "ir"
  },
  "language_info": {
   "codemirror_mode": "r",
   "file_extension": ".r",
   "mimetype": "text/x-r-source",
   "name": "R",
   "pygments_lexer": "r",
   "version": "3.6.2"
  }
 },
 "nbformat": 4,
 "nbformat_minor": 2
}
